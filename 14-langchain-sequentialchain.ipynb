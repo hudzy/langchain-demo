{
 "cells": [
  {
   "cell_type": "code",
   "execution_count": 1,
   "metadata": {},
   "outputs": [],
   "source": [
    "import os\n",
    "\n",
    "from langchain.chains import LLMChain, SimpleSequentialChain\n",
    "from langchain_community.chat_message_histories import ChatMessageHistory\n",
    "from langchain_core.prompts import PromptTemplate\n",
    "from langchain_core.rate_limiters import InMemoryRateLimiter\n",
    "from langchain_core.runnables import RunnableLambda, RunnablePassthrough\n",
    "from langchain_openai import AzureChatOpenAI, ChatOpenAI"
   ]
  },
  {
   "cell_type": "code",
   "execution_count": 2,
   "metadata": {},
   "outputs": [],
   "source": [
    "# Deepseek\n",
    "API_KEY = \"sk-axxxxx\"\n",
    "ENDPOINT = \"https://api.deepseek.com\"\n",
    "MODEL_NAME = \"deepseek-chat\"\n",
    "\n",
    "llm = ChatOpenAI(\n",
    "    base_url=ENDPOINT,\n",
    "    model=MODEL_NAME,\n",
    "    api_key=API_KEY,\n",
    "    temperature=0,\n",
    ")"
   ]
  },
  {
   "cell_type": "code",
   "execution_count": 3,
   "metadata": {},
   "outputs": [],
   "source": [
    "article_template = \"You're a professional in movies. Write an article about top {number} IMDb movie, covering the cast, director, genre, release year\"\n",
    "\n",
    "article_prompt = PromptTemplate(template=article_template)"
   ]
  },
  {
   "cell_type": "code",
   "execution_count": 5,
   "metadata": {},
   "outputs": [],
   "source": [
    "summary_template = \"\"\"Summary each movie in the article about IDMb movies strictly following below format:\n",
    "1. **It's a Wonderful Life**\n",
    "   - *Year*: 1946\n",
    "   - *Director*: Frank Capra\n",
    "   - *Genre*: Drama, Family, Fantasy\n",
    "   - *Cast*: James Stewart (as George Bailey)\n",
    "   - *Cast*: Donna Reed (as Mary Hatch)\n",
    "   - *Cast*: Lionel Barrymore (as Mr. Potter)\n",
    "Here's the article:\n",
    "{article}\n",
    "\"\"\"\n",
    "\n",
    "summary_prompt = PromptTemplate(template=summary_template)"
   ]
  },
  {
   "cell_type": "code",
   "execution_count": null,
   "metadata": {},
   "outputs": [],
   "source": [
    "article_chain = article_prompt | llm\n",
    "\n",
    "generated_article = article_chain.invoke({\"number\": 2})\n",
    "\n",
    "print(generated_article.content)"
   ]
  },
  {
   "cell_type": "code",
   "execution_count": null,
   "metadata": {},
   "outputs": [],
   "source": [
    "summary_chain = summary_prompt | llm\n",
    "\n",
    "sequential_chain = article_chain | summary_chain\n",
    "\n",
    "imdb_result = sequential_chain.invoke(\"2\")\n",
    "\n",
    "print(imdb_result.content)"
   ]
  }
 ],
 "metadata": {
  "kernelspec": {
   "display_name": "Python 3",
   "language": "python",
   "name": "python3"
  },
  "language_info": {
   "codemirror_mode": {
    "name": "ipython",
    "version": 3
   },
   "file_extension": ".py",
   "mimetype": "text/x-python",
   "name": "python",
   "nbconvert_exporter": "python",
   "pygments_lexer": "ipython3",
   "version": "3.10.14"
  }
 },
 "nbformat": 4,
 "nbformat_minor": 2
}

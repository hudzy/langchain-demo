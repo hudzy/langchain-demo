{
 "cells": [
  {
   "cell_type": "code",
   "execution_count": 1,
   "metadata": {},
   "outputs": [],
   "source": [
    "import os\n",
    "from langchain_community.chat_message_histories import ChatMessageHistory\n",
    "from langchain_core.chat_history import BaseChatMessageHistory\n",
    "from langchain_core.prompts import ChatPromptTemplate, MessagesPlaceholder\n",
    "from langchain_core.runnables.history import RunnableWithMessageHistory\n",
    "from langchain_openai import ChatOpenAI"
   ]
  },
  {
   "cell_type": "code",
   "execution_count": 2,
   "metadata": {},
   "outputs": [],
   "source": [
    "# Deepseek\n",
    "# API_KEY = os.getenv(\"DEEPSEEK_API_KEY\")\n",
    "# ENDPOINT = \"https://api.deepseek.com\"\n",
    "# MODEL_NAME = \"deepseek-chat\"\n",
    "\n",
    "# Github marketplace\n",
    "# API_KEY = os.getenv(\"GITHUB_MARKETPLACE_API_KEY\")\n",
    "# ENDPOINT = \"https://models.inference.ai.azure.com\"\n",
    "# MODEL_NAME = \"gpt-4o\"\n",
    "\n",
    "# Cloudflare Worker AI\n",
    "API_KEY = os.getenv(\"CLOUDFLARE_WORKER_AI_API_KEY\")\n",
    "ACCOUNT_ID = os.getenv(\"CLOUDFLARE_WORKER_AI_ACCOUNT_ID\")\n",
    "ENDPOINT = f\"https://api.cloudflare.com/client/v4/accounts/{ACCOUNT_ID}/ai/v1\"\n",
    "MODEL_NAME = \"@cf/meta/llama-3.1-8b-instruct\"\n",
    "\n",
    "os.environ[\"SSL_CERT_FILE\"] = os.getenv(\"REQUESTS_CA_BUNDLE\")\n",
    "\n",
    "llm = ChatOpenAI(\n",
    "    base_url=ENDPOINT,\n",
    "    model=MODEL_NAME,\n",
    "    api_key=API_KEY,\n",
    "    temperature=0,\n",
    ")"
   ]
  },
  {
   "cell_type": "code",
   "execution_count": null,
   "metadata": {},
   "outputs": [],
   "source": [
    "# Calling the llm\n",
    "message = llm.invoke(\"repeat my last question\")\n",
    "print(message)"
   ]
  },
  {
   "cell_type": "code",
   "execution_count": null,
   "metadata": {},
   "outputs": [],
   "source": [
    "# Setup the basic prompt\n",
    "prompt = ChatPromptTemplate.from_messages(\n",
    "    [\n",
    "        (\n",
    "            \"system\",\n",
    "            \"You're a helpful assistant. Respond in plain text, less than 30 words.\",\n",
    "        ),\n",
    "        (\"human\", \"{question}\"),\n",
    "    ]\n",
    ")\n",
    "\n",
    "# Chaining prompt and llm\n",
    "chain = prompt | llm\n",
    "message = chain.invoke({\"question\": \"What is the name of imdb top 1 movie?\"})\n",
    "print(message)"
   ]
  },
  {
   "cell_type": "code",
   "execution_count": 7,
   "metadata": {},
   "outputs": [],
   "source": [
    "# Store session histories\n",
    "store = {}\n",
    "\n",
    "# Function to get or create session history\n",
    "def get_session_history(session_id: str) -> BaseChatMessageHistory:\n",
    "    if session_id not in store:\n",
    "        store[session_id] = ChatMessageHistory()\n",
    "    return store[session_id]\n",
    "\n",
    "# Added chat history in prompt\n",
    "prompt = ChatPromptTemplate.from_messages(\n",
    "    [\n",
    "        (\n",
    "            \"system\",\n",
    "            \"You're a helpful assistant. Respond in plain text, less than 30 words.\",\n",
    "        ),\n",
    "        MessagesPlaceholder(variable_name=\"chat_history\"),\n",
    "        (\"human\", \"{question}\"),\n",
    "    ]\n",
    ")\n",
    "\n",
    "# Chain prompt with LLM\n",
    "chain = prompt | llm\n",
    "\n",
    "# Runnable with message history\n",
    "with_message_history = RunnableWithMessageHistory(\n",
    "    chain,\n",
    "    get_session_history,\n",
    "    input_messages_key=\"question\",\n",
    "    history_messages_key=\"chat_history\",\n",
    ")"
   ]
  },
  {
   "cell_type": "code",
   "execution_count": null,
   "metadata": {},
   "outputs": [],
   "source": [
    "message1 = with_message_history.invoke(\n",
    "    {\"question\": \"What is the name of imdb top 1 movie?\"},\n",
    "    config={\"configurable\": {\"session_id\": \"abc123\"}},\n",
    ")\n",
    "print(message1)"
   ]
  },
  {
   "cell_type": "code",
   "execution_count": null,
   "metadata": {},
   "outputs": [],
   "source": [
    "message2 = with_message_history.invoke(\n",
    "    {\"question\": \"Which org created you?\"},\n",
    "    config={\"configurable\": {\"session_id\": \"abc123\"}},\n",
    ")\n",
    "print(message2)"
   ]
  },
  {
   "cell_type": "code",
   "execution_count": null,
   "metadata": {},
   "outputs": [],
   "source": [
    "message3 = with_message_history.invoke(\n",
    "    {\"question\": \"What was my first question?\"},\n",
    "    config={\"configurable\": {\"session_id\": \"abc123\"}},\n",
    ")\n",
    "print(message3)"
   ]
  },
  {
   "cell_type": "code",
   "execution_count": null,
   "metadata": {
    "slideshow": {
     "slide_type": "slide"
    }
   },
   "outputs": [],
   "source": [
    "print(store)"
   ]
  }
 ],
 "metadata": {
  "kernelspec": {
   "display_name": "Python 3",
   "language": "python",
   "name": "python3"
  },
  "language_info": {
   "codemirror_mode": {
    "name": "ipython",
    "version": 3
   },
   "file_extension": ".py",
   "mimetype": "text/x-python",
   "name": "python",
   "nbconvert_exporter": "python",
   "pygments_lexer": "ipython3",
   "version": "3.10.14"
  }
 },
 "nbformat": 4,
 "nbformat_minor": 2
}

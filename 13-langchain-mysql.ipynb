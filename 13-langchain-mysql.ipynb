{
 "cells": [
  {
   "cell_type": "code",
   "execution_count": 1,
   "metadata": {},
   "outputs": [],
   "source": [
    "import os\n",
    "from operator import itemgetter\n",
    "\n",
    "from langchain.chains import create_sql_query_chain\n",
    "from langchain_community.tools.sql_database.tool import QuerySQLDataBaseTool\n",
    "from langchain_community.utilities import SQLDatabase\n",
    "from langchain_core.output_parsers import StrOutputParser\n",
    "from langchain_core.prompts import PromptTemplate\n",
    "from langchain_core.runnables import RunnableLambda, RunnablePassthrough\n",
    "from langchain_openai import AzureChatOpenAI, ChatOpenAI"
   ]
  },
  {
   "cell_type": "code",
   "execution_count": 2,
   "metadata": {},
   "outputs": [],
   "source": [
    "# Deepseek\n",
    "# API_KEY = os.getenv(\"DEEPSEEK_API_KEY\")\n",
    "# ENDPOINT = \"https://api.deepseek.com\"\n",
    "# MODEL_NAME = \"deepseek-chat\"\n",
    "\n",
    "# Github marketplace\n",
    "# API_KEY = os.getenv(\"GITHUB_MARKETPLACE_API_KEY\")\n",
    "# ENDPOINT = \"https://models.inference.ai.azure.com\"\n",
    "# MODEL_NAME = \"gpt-4o\"\n",
    "\n",
    "# Cloudflare Worker AI\n",
    "API_KEY = os.getenv(\"CLOUDFLARE_WORKER_AI_API_KEY\")\n",
    "ACCOUNT_ID = os.getenv(\"CLOUDFLARE_WORKER_AI_ACCOUNT_ID\")\n",
    "ENDPOINT = f\"https://api.cloudflare.com/client/v4/accounts/{ACCOUNT_ID}/ai/v1\"\n",
    "MODEL_NAME = \"@cf/meta/llama-3.1-8b-instruct\"\n",
    "\n",
    "os.environ[\"SSL_CERT_FILE\"] = os.getenv(\"REQUESTS_CA_BUNDLE\")\n",
    "\n",
    "llm = ChatOpenAI(\n",
    "    base_url=ENDPOINT,\n",
    "    model=MODEL_NAME,\n",
    "    api_key=API_KEY,\n",
    "    temperature=0,\n",
    ")"
   ]
  },
  {
   "cell_type": "code",
   "execution_count": 3,
   "metadata": {},
   "outputs": [],
   "source": [
    "# Create prompt for generating SQL\n",
    "\n",
    "query_template = \"\"\"You are a MySQL expert. Given an input question, create a syntactically correct MySQL query.\n",
    "Unless the user specifies in the question a specific number of examples to obtain, query for at most {top_k} results using the LIMIT clause as per MySQL. You can order the results to return the most informative data in the database.\n",
    "Never query for all columns from a table. You must query only the columns that are needed to answer the question. Wrap each column name in backticks (`) to denote them as delimited identifiers.\n",
    "Pay attention to use only the column names you can see in the tables below. Be careful to not query for columns that do not exist. Also, pay attention to which column is in which table.\n",
    "Pay attention to use CURDATE() function to get the current date, if the question involves \"today\".\n",
    "\n",
    "Only use the following tables:\n",
    "{table_info}\n",
    "\n",
    "Question:\n",
    "{input}\n",
    "\n",
    "return the query in text format only\"\"\"\n",
    "\n",
    "query_prompt = PromptTemplate(\n",
    "    input_variables=[\"input\", \"table_info\"],\n",
    "    input_types={},\n",
    "    partial_variables={\"top_k\": \"5\"},\n",
    "    template=query_template,\n",
    ")"
   ]
  },
  {
   "cell_type": "code",
   "execution_count": 4,
   "metadata": {},
   "outputs": [],
   "source": [
    "# Create prompt for generating answer\n",
    "\n",
    "answer_template = \"\"\"Given the following user question, corresponding SQL query, and SQL result, you will: return the executed SQL query, answer the user question.\n",
    "\n",
    "Question:\n",
    "{question}\n",
    "\n",
    "SQL Query:\n",
    "{query}\n",
    "\n",
    "SQL Result:\n",
    "{result}\n",
    "Executed query and Answer: \"\"\"\n",
    "\n",
    "answer_prompt = PromptTemplate(template=answer_template)"
   ]
  },
  {
   "cell_type": "code",
   "execution_count": null,
   "metadata": {},
   "outputs": [],
   "source": [
    "# MySQL connection\n",
    "mysql_uri = \"localhost:7082\"\n",
    "mysql_user = \"langchain\"\n",
    "mysql_password = \"langchain\"\n",
    "mysql_db = \"langchain\"\n",
    "\n",
    "db = SQLDatabase.from_uri(\n",
    "    f\"mysql+pymysql://{mysql_user}:{mysql_password}@{mysql_uri}/{mysql_db}\"\n",
    ")\n",
    "\n",
    "# Test connection\n",
    "print(db.get_usable_table_names())\n",
    "print(db.run(\"SELECT * FROM students LIMIT 5;\"))"
   ]
  },
  {
   "cell_type": "code",
   "execution_count": null,
   "metadata": {},
   "outputs": [],
   "source": [
    "# Create and configure the query chain to generate, strip, and execute SQL queries\n",
    "compose_query = create_sql_query_chain(llm=llm, db=db, prompt=query_prompt)\n",
    "strip_query = RunnableLambda(lambda x: \"\\n\".join(x.splitlines()[1:-1]))\n",
    "execute_query = QuerySQLDataBaseTool(db=db, verbose=False)\n",
    "\n",
    "# query_chain = compose_query\n",
    "query_chain = compose_query | strip_query\n",
    "query_chain.invoke({\"question\": \"Who got the lowest grade and why?\"})"
   ]
  },
  {
   "cell_type": "code",
   "execution_count": null,
   "metadata": {},
   "outputs": [],
   "source": [
    "# Create a query chain to generate, strip, and execute SQL queries, then format the answer using the LLM\n",
    "\n",
    "query_chain = (\n",
    "    RunnablePassthrough.assign(query=compose_query).assign(\n",
    "        result=itemgetter(\"query\") | strip_query | execute_query\n",
    "    )\n",
    "    | answer_prompt\n",
    "    | llm\n",
    ")\n",
    "\n",
    "# Who got the lowest grade and why?\n",
    "# calculate the average score\n",
    "# calculate the average score except 0 scores\n",
    "# get the parents info of the student with the lowest score\n",
    "\n",
    "print(query_chain.invoke({\"question\": \"get the parents info of the student with the lowest score\"}).content)"
   ]
  }
 ],
 "metadata": {
  "kernelspec": {
   "display_name": "Python 3",
   "language": "python",
   "name": "python3"
  },
  "language_info": {
   "codemirror_mode": {
    "name": "ipython",
    "version": 3
   },
   "file_extension": ".py",
   "mimetype": "text/x-python",
   "name": "python",
   "nbconvert_exporter": "python",
   "pygments_lexer": "ipython3",
   "version": "3.10.14"
  }
 },
 "nbformat": 4,
 "nbformat_minor": 2
}
